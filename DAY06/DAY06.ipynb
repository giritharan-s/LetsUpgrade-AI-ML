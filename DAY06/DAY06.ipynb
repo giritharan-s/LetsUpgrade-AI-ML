{
 "cells": [
  {
   "cell_type": "code",
   "execution_count": 12,
   "metadata": {},
   "outputs": [
    {
     "name": "stdout",
     "output_type": "stream",
     "text": [
      "company\n"
     ]
    }
   ],
   "source": [
    "#program to print the company name of a given email address. Both user names and company names are composed of letters only.\n",
    "s='hello@company.com'\n",
    "a=s.split('@')\n",
    "r=a[1].split('.')[0]\n",
    "print(r)\n",
    "\n"
   ]
  },
  {
   "cell_type": "code",
   "execution_count": null,
   "metadata": {},
   "outputs": [],
   "source": []
  },
  {
   "cell_type": "code",
   "execution_count": 33,
   "metadata": {},
   "outputs": [
    {
     "name": "stdin",
     "output_type": "stream",
     "text": [
      "enter a comma-separated string: giu,kiu,nhyu,xgh,lou,ctyyg\n"
     ]
    },
    {
     "name": "stdout",
     "output_type": "stream",
     "text": [
      "ctyyg,giu,kiu,lou,nhyu,xgh\n"
     ]
    }
   ],
   "source": [
    "#program that accepts a comma-separated sequence of words as input and prints the words in a comma separated sequence after sorting them alphabetically\n",
    "a=str(input('enter a comma-separated string:'))\n",
    "b=a.split(',')\n",
    "b.sort()\n",
    "print(','.join(b))\n",
    "\n"
   ]
  },
  {
   "cell_type": "code",
   "execution_count": 15,
   "metadata": {},
   "outputs": [
    {
     "name": "stdout",
     "output_type": "stream",
     "text": [
      "{2, 3, 4, 5, 6, 40, 21, 'hello'}\n",
      "{1, 2, 3, 4, 5, 6, 40, 8, 45, 21, 'hello'}\n",
      "{2, 3}\n"
     ]
    }
   ],
   "source": [
    "#Sets\n",
    "s={1,2,3,4,5,6,'hi'}\n",
    "s.update(['hello',21,40])\n",
    "s.remove('hi')\n",
    "s.pop()\n",
    "print(s)\n",
    "s1={1,2,3,1,45,8}\n",
    "s2=s.union(s1)\n",
    "print(s2)\n",
    "s3=s.intersection(s1)\n",
    "print(s3)\n",
    "\n"
   ]
  },
  {
   "cell_type": "code",
   "execution_count": 27,
   "metadata": {},
   "outputs": [
    {
     "name": "stdout",
     "output_type": "stream",
     "text": [
      "9\n"
     ]
    }
   ],
   "source": [
    "#a list of n-1 numbers ranging from 1 to n, your task is to find the missing number. There are no duplicates.\n",
    "n='1 2 3 4 5 6 7 8 10'\n",
    "d=list(n.split(' '))\n",
    "j=0\n",
    "for i in range(1,11):\n",
    "    if i==int(d[j]):\n",
    "        j+=1\n",
    "    else:\n",
    "        print(i)\n"
   ]
  },
  {
   "cell_type": "code",
   "execution_count": 33,
   "metadata": {},
   "outputs": [
    {
     "name": "stdout",
     "output_type": "stream",
     "text": [
      "12 14 15 16 23 56 78 123 456 1245 5\n"
     ]
    }
   ],
   "source": [
    "#program to print this list L after removing all duplicate values with original order reserved\n",
    "\n",
    "i='12 14 15 16 14 23 12 56 78 123 12 456 123 1245 5'\n",
    "a=i.split(' ')\n",
    "b=[]\n",
    "for i in a:\n",
    "    if i in b:\n",
    "        continue\n",
    "    else:\n",
    "        b.append(i)\n",
    "        \n",
    "print(' '.join(b))"
   ]
  },
  {
   "cell_type": "code",
   "execution_count": null,
   "metadata": {},
   "outputs": [],
   "source": []
  }
 ],
 "metadata": {
  "kernelspec": {
   "display_name": "Python",
   "language": "python",
   "name": "conda-env-python-py"
  },
  "language_info": {
   "codemirror_mode": {
    "name": "ipython",
    "version": 3
   },
   "file_extension": ".py",
   "mimetype": "text/x-python",
   "name": "python",
   "nbconvert_exporter": "python",
   "pygments_lexer": "ipython3",
   "version": "3.6.10"
  }
 },
 "nbformat": 4,
 "nbformat_minor": 4
}
