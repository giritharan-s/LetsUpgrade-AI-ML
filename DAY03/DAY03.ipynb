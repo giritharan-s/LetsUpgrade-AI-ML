{
 "cells": [
  {
   "cell_type": "markdown",
   "metadata": {},
   "source": [
    "SUBTRACT OF TWO COMPLEX NUMBER"
   ]
  },
  {
   "cell_type": "code",
   "execution_count": 3,
   "metadata": {},
   "outputs": [
    {
     "name": "stdout",
     "output_type": "stream",
     "text": [
      "subtract of two complex number (-2+3j)\n"
     ]
    }
   ],
   "source": [
    "#SUBTRACT OF  TWO COMPLEX NUMBER\n",
    "a=5+6j\n",
    "b=7+3j\n",
    "print('subtract of two complex number',a-b)"
   ]
  },
  {
   "cell_type": "code",
   "execution_count": 6,
   "metadata": {},
   "outputs": [
    {
     "name": "stdin",
     "output_type": "stream",
     "text": [
      "enter number: 24\n"
     ]
    },
    {
     "name": "stdout",
     "output_type": "stream",
     "text": [
      "2.213363839400643\n"
     ]
    }
   ],
   "source": [
    "#FOURTH ROOT OF NUMBER\n",
    "a=float(input('enter number:'))\n",
    "print(a**(1/4))\n"
   ]
  },
  {
   "cell_type": "code",
   "execution_count": 7,
   "metadata": {},
   "outputs": [
    {
     "name": "stdin",
     "output_type": "stream",
     "text": [
      "enter 1 number: 10\n",
      "enter 2 number: 15\n"
     ]
    },
    {
     "name": "stdout",
     "output_type": "stream",
     "text": [
      "after swap 15.0 10.0\n"
     ]
    }
   ],
   "source": [
    "#swap of two number using temporary variable\n",
    "a=int(input('enter 1 number:'))\n",
    "b=int(input('enter 2 number:'))\n",
    "temp=a\n",
    "a=b\n",
    "b=temp\n",
    "print('after swap',a,b)"
   ]
  },
  {
   "cell_type": "code",
   "execution_count": 8,
   "metadata": {},
   "outputs": [
    {
     "name": "stdin",
     "output_type": "stream",
     "text": [
      "enter 1 number: 10\n",
      "enter 2 number: 5\n"
     ]
    },
    {
     "name": "stdout",
     "output_type": "stream",
     "text": [
      "after swap 5 10\n"
     ]
    }
   ],
   "source": [
    "#swap of two number with out using temporary variable\n",
    "a=int(input('enter 1 number:'))\n",
    "b=int(input('enter 2 number:'))\n",
    "a,b=b,a\n",
    "print('after swap',a,b)"
   ]
  },
  {
   "cell_type": "code",
   "execution_count": 13,
   "metadata": {},
   "outputs": [
    {
     "name": "stdin",
     "output_type": "stream",
     "text": [
      "enter fahrenheit value: 32\n"
     ]
    },
    {
     "name": "stdout",
     "output_type": "stream",
     "text": [
      "The celsius value 0.0\n",
      "The kelvin value 273.15\n"
     ]
    }
   ],
   "source": [
    "# Fahrenheit to kelvin and celsius\n",
    "a=float(input('enter fahrenheit value:'))\n",
    "b= (a-32) * 5/9 \n",
    "c= (a-32) *5/9 + 273.15\n",
    "print('The celsius value',b)\n",
    "print('The kelvin value',c)\n"
   ]
  },
  {
   "cell_type": "code",
   "execution_count": 26,
   "metadata": {},
   "outputs": [
    {
     "name": "stdout",
     "output_type": "stream",
     "text": [
      "<class 'int'>\n",
      "<class 'float'>\n",
      "<class 'complex'>\n",
      "<class 'str'>\n",
      "<class 'bool'>\n",
      "<class 'tuple'>\n",
      "<class 'list'>\n",
      "<class 'dict'>\n"
     ]
    }
   ],
   "source": [
    "# available data types\n",
    "print(type(123))\n",
    "print(type(1.0))\n",
    "print(type(1+5j))\n",
    "print(type('hello'))\n",
    "print(type(True))\n",
    "print(type((1,2,3)))\n",
    "print(type([1,2,3]))\n",
    "print(type({1:'one'}))"
   ]
  },
  {
   "cell_type": "markdown",
   "metadata": {},
   "source": [
    "Create github profile\n",
    "Create a Github public repo & name it LetsUpgrade AI/ML\n",
    "Upload the assignment in the repo in day wise manner.\n",
    "Copy the URL of the assignment folder of that day & paste in the Assignment submission Form "
   ]
  }
 ],
 "metadata": {
  "kernelspec": {
   "display_name": "Python",
   "language": "python",
   "name": "conda-env-python-py"
  },
  "language_info": {
   "codemirror_mode": {
    "name": "ipython",
    "version": 3
   },
   "file_extension": ".py",
   "mimetype": "text/x-python",
   "name": "python",
   "nbconvert_exporter": "python",
   "pygments_lexer": "ipython3",
   "version": "3.6.10"
  }
 },
 "nbformat": 4,
 "nbformat_minor": 4
}
