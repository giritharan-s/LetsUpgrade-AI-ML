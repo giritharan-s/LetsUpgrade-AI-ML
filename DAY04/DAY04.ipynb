{
 "cells": [
  {
   "cell_type": "code",
   "execution_count": 8,
   "metadata": {},
   "outputs": [
    {
     "name": "stdout",
     "output_type": "stream",
     "text": [
      "subtract of two complex number (-2+3j)\n",
      "addition of two complex number (12+9j)\n",
      "multiplication of two complex number (17+57j)\n",
      "division of two complex number (0.9137931034482759+0.4655172413793104j)\n",
      "floor division 1.0\n",
      "modulo 0.19447657004274532\n"
     ]
    }
   ],
   "source": [
    "a=5+6j\n",
    "b=7+3j\n",
    "print('subtract of two complex number',a-b)\n",
    "print('addition of two complex number',a+b)\n",
    "print('multiplication of two complex number',a*b)\n",
    "print('division of two complex number',a/b)\n",
    "print('floor division',abs(a)//abs(b))\n",
    "print('modulo',abs(a)%abs(b))"
   ]
  },
  {
   "cell_type": "markdown",
   "metadata": {},
   "source": [
    "#range function\n",
    "returns a sequence of numbers\n",
    "range(start,stop,step)"
   ]
  },
  {
   "cell_type": "code",
   "execution_count": null,
   "metadata": {},
   "outputs": [],
   "source": [
    "c='hello'\n",
    "for i in range(len(c)):\n",
    "    print(c[i],end='')"
   ]
  },
  {
   "cell_type": "code",
   "execution_count": null,
   "metadata": {},
   "outputs": [],
   "source": [
    "#Consider two numbers. Perform their subtraction and if the result of subtraction is greater than 25, print their multiplication result else print their division result.\n",
    "a=float(input('enter 1 number:'))\n",
    "b=float(input('enter 2 number:'))\n",
    "c=a-b\n",
    "if c>25:\n",
    "    print('multiplication',a*b)\n",
    "else:\n",
    "    print('division',a/b)"
   ]
  },
  {
   "cell_type": "code",
   "execution_count": 1,
   "metadata": {},
   "outputs": [
    {
     "name": "stdout",
     "output_type": "stream",
     "text": [
      "11943934\n",
      "14\n",
      "1294\n",
      "159998\n"
     ]
    }
   ],
   "source": [
    "#Consider a list of 10 elements of integer values. If the number in the list is divisible by 2, print the result as square of that number minus 2\n",
    "a=[1,1001,3456,789,3487,7,4,36,89,400]\n",
    "for i in a:\n",
    "    if i%2==0:\n",
    "        print((i**2)-2)\n",
    "    \n"
   ]
  },
  {
   "cell_type": "code",
   "execution_count": 2,
   "metadata": {},
   "outputs": [
    {
     "name": "stdout",
     "output_type": "stream",
     "text": [
      "3456\n",
      "36\n",
      "400\n"
     ]
    }
   ],
   "source": [
    "#Consider a list of 10 elements. Print all the elements in the list which are greater than 7 when that number is divided 2.\n",
    "a=[1,1001,3456,789,3487,7,4,36,89,400]\n",
    "for i in a:\n",
    "    if i%2==0 and i>7:\n",
    "        print(i)"
   ]
  },
  {
   "cell_type": "code",
   "execution_count": null,
   "metadata": {},
   "outputs": [],
   "source": []
  }
 ],
 "metadata": {
  "kernelspec": {
   "display_name": "Python",
   "language": "python",
   "name": "conda-env-python-py"
  },
  "language_info": {
   "codemirror_mode": {
    "name": "ipython",
    "version": 3
   },
   "file_extension": ".py",
   "mimetype": "text/x-python",
   "name": "python",
   "nbconvert_exporter": "python",
   "pygments_lexer": "ipython3",
   "version": "3.6.10"
  }
 },
 "nbformat": 4,
 "nbformat_minor": 4
}
