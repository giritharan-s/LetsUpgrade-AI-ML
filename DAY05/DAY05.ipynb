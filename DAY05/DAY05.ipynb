{
 "cells": [
  {
   "cell_type": "code",
   "execution_count": 72,
   "metadata": {},
   "outputs": [
    {
     "name": "stdout",
     "output_type": "stream",
     "text": [
      "3\n",
      "5\n",
      "7\n",
      "9\n",
      "11\n",
      "13\n",
      "15\n",
      "17\n",
      "19\n",
      "21\n",
      "23\n",
      "25\n",
      "27\n",
      "29\n",
      "31\n",
      "33\n",
      "35\n",
      "37\n",
      "39\n",
      "41\n",
      "43\n"
     ]
    }
   ],
   "source": [
    "#Write a Python program to find the first 20 non-even prime natural numbers.\n",
    "ans=[]\n",
    "\n",
    "for i in range(1,100):\n",
    "    if len(ans)>20:\n",
    "        break\n",
    "    for j in range(1,i):\n",
    "        if i%j!=0 and i%2!=0:\n",
    "            ans.append(i)\n",
    "            break\n",
    "for h in ans:\n",
    "    print(h)\n",
    "\n",
    "            \n",
    "\n",
    "            \n",
    "            \n",
    "        \n",
    "           \n",
    "    "
   ]
  },
  {
   "cell_type": "code",
   "execution_count": 45,
   "metadata": {},
   "outputs": [
    {
     "name": "stdout",
     "output_type": "stream",
     "text": [
      "hello world!\n",
      "HELLO WORLD!\n",
      "4\n",
      "['hello', 'world!']\n",
      "hehho worhd!\n",
      "Hello world!\n",
      "True\n",
      "False\n",
      "False\n",
      "True\n",
      "True\n",
      "True\n",
      "2\n",
      "HELLO WORLD!\n",
      "0\n"
     ]
    }
   ],
   "source": [
    "#Write a Python program to implement 15 functions of string.\n",
    "s=\"hello world!\"\n",
    "print(s.lower())\n",
    "print(s.upper())\n",
    "print(s.find('o'))\n",
    "print(s.split())\n",
    "print(s.replace('l','h'))\n",
    "print(s.capitalize())\n",
    "print(s.islower())\n",
    "print(s.isupper())\n",
    "print(s.isspace())\n",
    "print(s.startswith('h'))\n",
    "print(s.islower())\n",
    "print(s.endswith(''))\n",
    "print(s.count('o'))\n",
    "print(s.swapcase())\n",
    "print(s.index('h'))\n"
   ]
  },
  {
   "cell_type": "code",
   "execution_count": 58,
   "metadata": {},
   "outputs": [
    {
     "name": "stdin",
     "output_type": "stream",
     "text": [
      "enter string to check palindrome: lool\n"
     ]
    },
    {
     "name": "stdout",
     "output_type": "stream",
     "text": [
      "it is palindrome\n"
     ]
    }
   ],
   "source": [
    "#Write a Python program to check if the given string is a Palindrome or Anagram or None of them.Display the message accordingly to the user.\n",
    "a=str(input(\"enter string to check palindrome:\"))\n",
    "b=a[::-1]\n",
    "if a==b:\n",
    "    print('it is palindrome')\n",
    "\n",
    "else:\n",
    "    c=str(input(\"enter another string to check anagram:\"))\n",
    "    if sorted(a)==sorted(c):\n",
    "        print('it is anagram')\n",
    "    else:\n",
    "        print('none of them')\n",
    "        \n"
   ]
  },
  {
   "cell_type": "code",
   "execution_count": 69,
   "metadata": {},
   "outputs": [
    {
     "name": "stdin",
     "output_type": "stream",
     "text": [
      "enter string: additional_cha_number\n"
     ]
    },
    {
     "name": "stdout",
     "output_type": "stream",
     "text": [
      "additionalchanumber\n"
     ]
    }
   ],
   "source": [
    "# removes all the additional characters from the string and converts it finally to lower case\n",
    "def additional_cha_number():\n",
    "    a=str(input(\"enter string:\"))\n",
    "    b=''\n",
    "    for i in range(len(a)):\n",
    "        if a[i].isalnum() and not(a[i].isdigit()):\n",
    "            b=b+a[i]\n",
    "    return(b.lower())\n",
    "print(additional_cha_number())\n",
    "\n"
   ]
  },
  {
   "cell_type": "code",
   "execution_count": null,
   "metadata": {},
   "outputs": [],
   "source": []
  },
  {
   "cell_type": "code",
   "execution_count": null,
   "metadata": {},
   "outputs": [],
   "source": []
  }
 ],
 "metadata": {
  "kernelspec": {
   "display_name": "Python",
   "language": "python",
   "name": "conda-env-python-py"
  },
  "language_info": {
   "codemirror_mode": {
    "name": "ipython",
    "version": 3
   },
   "file_extension": ".py",
   "mimetype": "text/x-python",
   "name": "python",
   "nbconvert_exporter": "python",
   "pygments_lexer": "ipython3",
   "version": "3.6.10"
  }
 },
 "nbformat": 4,
 "nbformat_minor": 4
}
